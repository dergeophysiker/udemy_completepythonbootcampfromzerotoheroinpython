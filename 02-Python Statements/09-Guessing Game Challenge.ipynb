{
 "cells": [
  {
   "cell_type": "markdown",
   "metadata": {},
   "source": [
    "___\n",
    "\n",
    "<a href='https://www.udemy.com/user/joseportilla/'><img src='../Pierian_Data_Logo.png'/></a>\n",
    "___\n",
    "<center><em>Content Copyright by Pierian Data</em></center>"
   ]
  },
  {
   "cell_type": "markdown",
   "metadata": {},
   "source": [
    "# Guessing Game Challenge\n",
    "\n",
    "Let's use `while` loops to create a guessing game.\n",
    "\n",
    "The Challenge:\n",
    "\n",
    "Write a program that picks a random integer from 1 to 100, and has players guess the number. The rules are:\n",
    "\n",
    "1. If a player's guess is less than 1 or greater than 100, say \"OUT OF BOUNDS\"\n",
    "2. On a player's first turn, if their guess is\n",
    " * within 10 of the number, return \"WARM!\"\n",
    " * further than 10 away from the number, return \"COLD!\"\n",
    "3. On all subsequent turns, if a guess is \n",
    " * closer to the number than the previous guess return \"WARMER!\"\n",
    " * farther from the number than the previous guess, return \"COLDER!\"\n",
    "4. When the player's guess equals the number, tell them they've guessed correctly *and* how many guesses it took!\n",
    "\n",
    "You can try this from scratch, or follow the steps outlined below. A separate Solution notebook has been provided. Good luck!\n"
   ]
  },
  {
   "cell_type": "markdown",
   "metadata": {},
   "source": [
    "#### First, pick a random integer from 1 to 100 using the random module and assign it to a variable\n",
    "\n",
    "Note: `random.randint(a,b)` returns a random integer in range `[a, b]`, including both end points."
   ]
  },
  {
   "cell_type": "code",
   "execution_count": null,
   "metadata": {
    "collapsed": true
   },
   "outputs": [],
   "source": []
  },
  {
   "cell_type": "markdown",
   "metadata": {},
   "source": [
    "#### Next, print an introduction to the game and explain the rules"
   ]
  },
  {
   "cell_type": "code",
   "execution_count": null,
   "metadata": {
    "collapsed": true
   },
   "outputs": [],
   "source": []
  },
  {
   "cell_type": "markdown",
   "metadata": {},
   "source": [
    "#### Create a list to store guesses\n",
    "\n",
    "Hint: zero is a good placeholder value. It's useful because it evaluates to \"False\""
   ]
  },
  {
   "cell_type": "code",
   "execution_count": null,
   "metadata": {
    "collapsed": true
   },
   "outputs": [],
   "source": []
  },
  {
   "cell_type": "markdown",
   "metadata": {},
   "source": [
    "#### Write a `while` loop that asks for a valid guess. Test it a few times to make sure it works."
   ]
  },
  {
   "cell_type": "code",
   "execution_count": null,
   "metadata": {
    "collapsed": true
   },
   "outputs": [],
   "source": [
    "while True:\n",
    "    \n",
    "    pass"
   ]
  },
  {
   "cell_type": "markdown",
   "metadata": {},
   "source": [
    "#### Write a `while` loop that compares the player's guess to our number. If the player guesses correctly, break from the loop. Otherwise, tell the player if they're warmer or colder, and continue asking for guesses.\n",
    "\n",
    "Some hints:\n",
    "* it may help to sketch out all possible combinations on paper first!\n",
    "* you can use the `abs()` function to find the positive difference between two numbers\n",
    "* if you append all new guesses to the list, then the previous guess is given as `guesses[-2]`"
   ]
  },
  {
   "cell_type": "code",
   "execution_count": null,
   "metadata": {
    "collapsed": true
   },
   "outputs": [],
   "source": [
    "while True:\n",
    "\n",
    "    # we can copy the code from above to take an input\n",
    "\n",
    "    pass"
   ]
  },
  {
   "cell_type": "markdown",
   "metadata": {},
   "source": [
    "That's it! You've just programmed your first game!\n",
    "\n",
    "In the next section we'll learn how to turn some of these repetitive actions into *functions* that can be called whenever we need them."
   ]
  },
  {
   "cell_type": "code",
   "execution_count": 21,
   "metadata": {
    "tags": []
   },
   "outputs": [
    {
     "output_type": "stream",
     "name": "stdout",
     "text": "random number is 17\n0\n29\nCOLD!\n1\n28\n11\n12\nWARMER\n2\n28\n11\n11\nWARMER\n3\n29\n12\n11\nCOLDER\n4\n28\n11\n12\nWARMER\n5\n27\n10\n11\nWARMER\n6\n28\n11\n10\nCOLDER\n7\n1\n16\n11\nCOLDER\n8\n2\n15\n16\nWARMER\n9\n18\n1\n15\nWARMER\n10\n16\n1\n1\nWARMER\n11\n15\n2\n1\nCOLDER\n12\n16\n1\n2\nWARMER\n13\n16\n1\n1\nWARMER\n14\n17\nwon the game in 15 turns\n"
    }
   ],
   "source": [
    "import random\n",
    "answer = random.randint(1,100)\n",
    "print(\"random number is \" + str(answer))\n",
    "\n",
    "won=False\n",
    "counter =0\n",
    "turncounter=1\n",
    "lastguess=0\n",
    "\n",
    "while not(won):\n",
    "    print(counter)\n",
    "    guess=input(\"enter a number:\")\n",
    "    print(int(guess))\n",
    "\n",
    "    if int(guess) < 1 or int(guess) >100:\n",
    "        print('out of bounds')\n",
    "    elif int(guess)==answer:\n",
    "            won=True\n",
    "    else:\n",
    "        if turncounter==1:\n",
    "          if abs(answer-int(guess))<=10:\n",
    "              print(\"WARM!\")\n",
    "              lastguess=guess\n",
    "          else:\n",
    "              print(\"COLD!\")\n",
    "              lastguess=guess\n",
    "        elif turncounter > 1:\n",
    "            if abs(answer-int(guess)) <= abs(answer-int(lastguess)):\n",
    "                print(abs(answer-int(guess)))\n",
    "                print(abs(answer-int(lastguess)))\n",
    "                print(\"WARMER\")\n",
    "                lastguess=guess\n",
    "            elif abs(answer-int(guess)) > abs(answer-int(lastguess)):\n",
    "                print(abs(answer-int(guess)))\n",
    "                print(abs(answer-int(lastguess)))\n",
    "                print(\"COLDER\")\n",
    "                lastguess=guess\n",
    "   \n",
    "    counter=counter+1\n",
    "    turncounter=turncounter+1\n",
    "\n",
    "else:\n",
    "    print(f\"won the game in {counter} turns\")\n"
   ]
  },
  {
   "cell_type": "code",
   "execution_count": null,
   "metadata": {},
   "outputs": [],
   "source": []
  }
 ],
 "metadata": {
  "kernelspec": {
   "display_name": "Python 3",
   "language": "python",
   "name": "python3"
  },
  "language_info": {
   "codemirror_mode": {
    "name": "ipython",
    "version": 3
   },
   "file_extension": ".py",
   "mimetype": "text/x-python",
   "name": "python",
   "nbconvert_exporter": "python",
   "pygments_lexer": "ipython3",
   "version": "3.7.0-final"
  }
 },
 "nbformat": 4,
 "nbformat_minor": 2
}