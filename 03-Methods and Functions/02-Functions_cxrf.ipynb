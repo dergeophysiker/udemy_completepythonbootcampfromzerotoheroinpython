{
 "metadata": {
  "language_info": {
   "codemirror_mode": {
    "name": "ipython",
    "version": 3
   },
   "file_extension": ".py",
   "mimetype": "text/x-python",
   "name": "python",
   "nbconvert_exporter": "python",
   "pygments_lexer": "ipython3",
   "version": "3.7.0-final"
  },
  "orig_nbformat": 2,
  "kernelspec": {
   "name": "python_defaultSpec_1599005072939",
   "display_name": "Python 3.7.0 64-bit ('.venv': venv)"
  }
 },
 "nbformat": 4,
 "nbformat_minor": 2,
 "cells": [
  {
   "cell_type": "code",
   "execution_count": 4,
   "metadata": {
    "tags": []
   },
   "outputs": [
    {
     "output_type": "stream",
     "name": "stdout",
     "text": "job\n"
    }
   ],
   "source": [
    "def say_hello(name):\n",
    "    print(f\"{name}\")\n",
    "\n",
    "\n",
    "say_hello(\"job\")"
   ]
  },
  {
   "cell_type": "code",
   "execution_count": 7,
   "metadata": {
    "tags": []
   },
   "outputs": [
    {
     "output_type": "error",
     "ename": "TypeError",
     "evalue": "unsupported operand type(s) for +: 'int' and 'str'",
     "traceback": [
      "\u001b[1;31m---------------------------------------------------------------------------\u001b[0m",
      "\u001b[1;31mTypeError\u001b[0m                                 Traceback (most recent call last)",
      "\u001b[1;32m<ipython-input-7-507af35f20d3>\u001b[0m in \u001b[0;36m<module>\u001b[1;34m\u001b[0m\n\u001b[0;32m      2\u001b[0m     \u001b[1;32mreturn\u001b[0m \u001b[0mnum1\u001b[0m \u001b[1;33m+\u001b[0m \u001b[0mnum2\u001b[0m\u001b[1;33m\u001b[0m\u001b[0m\n\u001b[0;32m      3\u001b[0m \u001b[1;33m\u001b[0m\u001b[0m\n\u001b[1;32m----> 4\u001b[1;33m \u001b[0mx\u001b[0m\u001b[1;33m=\u001b[0m\u001b[0madd_num\u001b[0m\u001b[1;33m(\u001b[0m\u001b[1;36m10\u001b[0m\u001b[1;33m,\u001b[0m\u001b[1;34m'b'\u001b[0m\u001b[1;33m)\u001b[0m\u001b[1;33m\u001b[0m\u001b[0m\n\u001b[0m\u001b[0;32m      5\u001b[0m \u001b[0mprint\u001b[0m\u001b[1;33m(\u001b[0m\u001b[0mx\u001b[0m\u001b[1;33m)\u001b[0m\u001b[1;33m\u001b[0m\u001b[0m\n",
      "\u001b[1;32m<ipython-input-7-507af35f20d3>\u001b[0m in \u001b[0;36madd_num\u001b[1;34m(num1, num2)\u001b[0m\n\u001b[0;32m      1\u001b[0m \u001b[1;32mdef\u001b[0m \u001b[0madd_num\u001b[0m\u001b[1;33m(\u001b[0m\u001b[0mnum1\u001b[0m\u001b[1;33m,\u001b[0m\u001b[0mnum2\u001b[0m\u001b[1;33m)\u001b[0m\u001b[1;33m:\u001b[0m\u001b[1;33m\u001b[0m\u001b[0m\n\u001b[1;32m----> 2\u001b[1;33m     \u001b[1;32mreturn\u001b[0m \u001b[0mnum1\u001b[0m \u001b[1;33m+\u001b[0m \u001b[0mnum2\u001b[0m\u001b[1;33m\u001b[0m\u001b[0m\n\u001b[0m\u001b[0;32m      3\u001b[0m \u001b[1;33m\u001b[0m\u001b[0m\n\u001b[0;32m      4\u001b[0m \u001b[0mx\u001b[0m\u001b[1;33m=\u001b[0m\u001b[0madd_num\u001b[0m\u001b[1;33m(\u001b[0m\u001b[1;36m10\u001b[0m\u001b[1;33m,\u001b[0m\u001b[1;34m'b'\u001b[0m\u001b[1;33m)\u001b[0m\u001b[1;33m\u001b[0m\u001b[0m\n\u001b[0;32m      5\u001b[0m \u001b[0mprint\u001b[0m\u001b[1;33m(\u001b[0m\u001b[0mx\u001b[0m\u001b[1;33m)\u001b[0m\u001b[1;33m\u001b[0m\u001b[0m\n",
      "\u001b[1;31mTypeError\u001b[0m: unsupported operand type(s) for +: 'int' and 'str'"
     ]
    }
   ],
   "source": [
    "def add_num(num1,num2):\n",
    "    return num1 + num2\n",
    "\n",
    "x=add_num(10,'b')\n",
    "print(x)"
   ]
  },
  {
   "cell_type": "code",
   "execution_count": 11,
   "metadata": {
    "tags": []
   },
   "outputs": [
    {
     "output_type": "stream",
     "name": "stdout",
     "text": "False\n"
    }
   ],
   "source": [
    "def even_check(number):\n",
    "#    result = number % 2 == 0\n",
    "#    return result\n",
    "    return number % 2 ==0\n",
    "    \n",
    "print(even_check(2131))"
   ]
  },
  {
   "cell_type": "code",
   "execution_count": 21,
   "metadata": {},
   "outputs": [
    {
     "output_type": "execute_result",
     "data": {
      "text/plain": "[]"
     },
     "metadata": {},
     "execution_count": 21
    }
   ],
   "source": [
    "def check_even_list(num_list):\n",
    "    for number in num_list:\n",
    "        if number % 2 == 0:\n",
    "            return True\n",
    "        else:\n",
    "            pass\n",
    "\n",
    "    return False\n",
    "\n",
    "\n",
    "def return_even_list(num_list):\n",
    "    even_list=[]\n",
    "    for number in num_list:\n",
    "        if number % 2 == 0:\n",
    "            even_list.append(number)\n",
    "\n",
    "\n",
    "    return even_list\n",
    "\n",
    "check_even_list([1,1,0])\n",
    "return_even_list([1,5])"
   ]
  },
  {
   "cell_type": "code",
   "execution_count": 22,
   "metadata": {
    "tags": []
   },
   "outputs": [
    {
     "output_type": "stream",
     "name": "stdout",
     "text": "APPL 200\nGOOG 400\nMSFT 1000\n"
    }
   ],
   "source": [
    "stock_prices = [('APPL', 200),('GOOG',400),('MSFT',1000)]\n",
    "\n",
    "for ticker,price in stock_prices:\n",
    "    print(ticker,price)"
   ]
  },
  {
   "cell_type": "code",
   "execution_count": 27,
   "metadata": {
    "tags": []
   },
   "outputs": [
    {
     "output_type": "stream",
     "name": "stdout",
     "text": "Abby 1\n"
    }
   ],
   "source": [
    "work_hours = [('Abby', 1),('Billy',1),('Cassie',1)]\n",
    "\n",
    "def employee_check(work_hours):\n",
    "    current_max = 0\n",
    "    employeeM = ''\n",
    "    for emply,hours in work_hours:\n",
    "        if hours > current_max:\n",
    "            current_max = hours\n",
    "            employeeM = emply\n",
    "        else:\n",
    "            pass\n",
    "\n",
    "    return(employeeM,current_max)\n",
    "\n",
    "a,b=employee_check(work_hours)\n",
    "print(a,b)"
   ]
  },
  {
   "cell_type": "code",
   "execution_count": 12,
   "metadata": {
    "tags": []
   },
   "outputs": [
    {
     "output_type": "stream",
     "name": "stdout",
     "text": "correct!\n"
    }
   ],
   "source": [
    "from random import shuffle\n",
    "\n",
    "def shuffle_list(example):\n",
    "    shuffle(example)\n",
    "    return example\n",
    "\n",
    "def player_guess():\n",
    "    guess=''\n",
    "    while guess not in [0,1,2]:\n",
    "        guess = int(input(\"pick a number\"))\n",
    "    return guess\n",
    "\n",
    "def check_guess(mylist, guess):\n",
    "        if mylist[guess]=='O':\n",
    "            print(\"correct!\")\n",
    "        else:\n",
    "            print(\"wrong!\")\n",
    "            print(mylist)\n",
    "\n",
    "mylist=['','O','']\n",
    "\n",
    "shuffle_list(mylist)\n",
    "\n",
    "myindex= player_guess()\n",
    "\n",
    "check_guess(mylist,myindex)"
   ]
  },
  {
   "cell_type": "code",
   "execution_count": 1,
   "metadata": {
    "tags": []
   },
   "outputs": [
    {
     "output_type": "stream",
     "name": "stdout",
     "text": "my name is some name\n"
    }
   ],
   "source": [
    "def myfunc(name):\n",
    "    print(\"my name is {}\".format(name))\n",
    "\n",
    "myfunc('some name')"
   ]
  },
  {
   "cell_type": "code",
   "execution_count": 2,
   "metadata": {
    "tags": []
   },
   "outputs": [
    {
     "output_type": "stream",
     "name": "stdout",
     "text": "5.0\n"
    }
   ],
   "source": [
    "def myfunc(a,b):\n",
    "    #returns 5% of the sume of a,b\n",
    "    return sum((a,b))*0.05\n",
    "\n",
    "print(myfunc(40,60))"
   ]
  },
  {
   "cell_type": "code",
   "execution_count": 4,
   "metadata": {
    "tags": []
   },
   "outputs": [
    {
     "output_type": "stream",
     "name": "stdout",
     "text": "40\n60\n100\n100\n1999\n114.95\n"
    }
   ],
   "source": [
    "def myfunc(*args):\n",
    "    for item in args:\n",
    "        print(item)\n",
    "    return sum(args)*.05\n",
    "\n",
    "print(myfunc(40,60,100,100,1999))"
   ]
  },
  {
   "cell_type": "code",
   "execution_count": 20,
   "metadata": {
    "tags": []
   },
   "outputs": [
    {
     "output_type": "stream",
     "name": "stdout",
     "text": "(10, 20)\n{'fruit': 'apple', 'veggie': 'lettuce', 'hate': 'real'}\nfruit of choice apple\n"
    }
   ],
   "source": [
    "def myfunc(*args, **kwargs):\n",
    "    print(args)\n",
    "    print(kwargs)\n",
    "    if 'fruit' in kwargs:\n",
    "        print('fruit of choice {}'.format(kwargs['fruit']))\n",
    "    else:\n",
    "        print('nuthing')\n",
    "\n",
    "myfunc(10,20,fruit='apple',veggie='lettuce',hate='real')\n"
   ]
  },
  {
   "cell_type": "code",
   "execution_count": 33,
   "metadata": {
    "tags": []
   },
   "outputs": [
    {
     "output_type": "stream",
     "name": "stdout",
     "text": "(10, 20, 30)\n{'fruit': 'apple'}\nI would like 10 apples\n"
    }
   ],
   "source": [
    "def myfunc(*args, **kwargs):\n",
    "    print(args)\n",
    "    print(kwargs)\n",
    "    print('I would like {} {}s'.format(args[0],kwargs['fruit']))\n",
    "\n",
    "\n",
    "\n",
    "\n",
    "myfunc(10,20,30,fruit='apple')"
   ]
  },
  {
   "cell_type": "code",
   "execution_count": 36,
   "metadata": {
    "tags": []
   },
   "outputs": [
    {
     "output_type": "stream",
     "name": "stdout",
     "text": "42\n"
    }
   ],
   "source": [
    "def myfunc(*args):\n",
    "    return sum(args)\n",
    "\n",
    "print(myfunc(1,2,34,5))"
   ]
  },
  {
   "cell_type": "code",
   "execution_count": 39,
   "metadata": {
    "tags": []
   },
   "outputs": [
    {
     "output_type": "stream",
     "name": "stdout",
     "text": "[2, 34, 0, 14, 422]\n"
    }
   ],
   "source": [
    "def myfunc(*args):\n",
    "    evenlist=[]\n",
    "    for item in args:\n",
    "        if item % 2==0:\n",
    "            evenlist.append(item)\n",
    "    return evenlist\n",
    "\n",
    "print(myfunc(1,2,34,5,0,123,14,422,33))"
   ]
  },
  {
   "cell_type": "code",
   "execution_count": 43,
   "metadata": {
    "tags": []
   },
   "outputs": [
    {
     "output_type": "stream",
     "name": "stdout",
     "text": "[2, 34, 0, 14, 422]\n"
    }
   ],
   "source": [
    "def myfunc(*args):\n",
    "    return [x for x in args if x%2==0]\n",
    "\n",
    "print(myfunc(1,2,34,5,0,123,14,422,33))"
   ]
  },
  {
   "cell_type": "code",
   "execution_count": 74,
   "metadata": {
    "tags": []
   },
   "outputs": [
    {
     "output_type": "stream",
     "name": "stdout",
     "text": "aNtHrOpOmOrPhIsM\naNtHrOpOmOrPhIsM\n"
    }
   ],
   "source": [
    "\n",
    "#results = [x**2 if x%2==0 else 'odd' for x in range (0,11)]\n",
    "\n",
    "def myfunc(string):\n",
    "    return ''.join([j.upper() if (i+1)%2==0 else j.lower() for i,j in enumerate(string)])\n",
    "\n",
    "x=myfunc('Anthropomorphism')\n",
    "print(x)\n",
    "x=myfunc('ANTHROPOMORPHISM')\n",
    "print(x)\n"
   ]
  },
  {
   "cell_type": "code",
   "execution_count": 77,
   "metadata": {
    "tags": []
   },
   "outputs": [
    {
     "output_type": "stream",
     "name": "stdout",
     "text": "AnThRoPoMoRpHiSm\n"
    }
   ],
   "source": [
    "def myfunc(string):\n",
    "    return ''.join([j.upper() if (i)%2==0 else j.lower() for i,j in enumerate(string)])\n",
    "x=myfunc('ANTHROPOMORPHISM')\n",
    "print(x)\n"
   ]
  },
  {
   "cell_type": "code",
   "execution_count": null,
   "metadata": {},
   "outputs": [],
   "source": []
  }
 ]
}