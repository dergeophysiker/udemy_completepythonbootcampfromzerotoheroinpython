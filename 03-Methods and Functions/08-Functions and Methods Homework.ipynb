{
 "cells": [
  {
   "cell_type": "markdown",
   "metadata": {},
   "source": [
    "___\n",
    "\n",
    "<a href='https://www.udemy.com/user/joseportilla/'><img src='../Pierian_Data_Logo.png'/></a>\n",
    "___\n",
    "<center><em>Content Copyright by Pierian Data</em></center>"
   ]
  },
  {
   "cell_type": "markdown",
   "metadata": {},
   "source": [
    "# Functions and Methods Homework \n",
    "\n",
    "Complete the following questions:\n",
    "____\n",
    "**Write a function that computes the volume of a sphere given its radius.**\n",
    "<p>The volume of a sphere is given as $$\\frac{4}{3} πr^3$$</p>"
   ]
  },
  {
   "cell_type": "code",
   "execution_count": 1,
   "metadata": {
    "collapsed": true
   },
   "outputs": [],
   "source": [
    "import math\n",
    "\n",
    "def vol(rad):\n",
    "    return (4/3)*math.pi*rad**3"
   ]
  },
  {
   "cell_type": "code",
   "execution_count": 2,
   "metadata": {},
   "outputs": [
    {
     "output_type": "execute_result",
     "data": {
      "text/plain": "33.510321638291124"
     },
     "metadata": {},
     "execution_count": 2
    }
   ],
   "source": [
    "# Check\n",
    "vol(2)"
   ]
  },
  {
   "cell_type": "markdown",
   "metadata": {},
   "source": [
    "___\n",
    "**Write a function that checks whether a number is in a given range (inclusive of high and low)**"
   ]
  },
  {
   "cell_type": "code",
   "execution_count": 159,
   "metadata": {
    "collapsed": true,
    "tags": []
   },
   "outputs": [],
   "source": [
    "def ran_check(num,low,high):\n",
    "    return num in list(range(low,high+1))\n",
    "\n",
    "def ran_check2(num,low,high):\n",
    "    if num in list(range(low,high+1)):\n",
    "        print(f'{num} is in range of {low} and {high}')\n",
    "    else:\n",
    "        print('not in range')"
   ]
  },
  {
   "cell_type": "code",
   "execution_count": 161,
   "metadata": {
    "tags": []
   },
   "outputs": [
    {
     "output_type": "stream",
     "name": "stdout",
     "text": "7 is in range of 2 and 7\n"
    }
   ],
   "source": [
    "# Check\n",
    "ran_check2(7,2,7)"
   ]
  },
  {
   "cell_type": "markdown",
   "metadata": {},
   "source": [
    "If you only wanted to return a boolean:"
   ]
  },
  {
   "cell_type": "code",
   "execution_count": 20,
   "metadata": {
    "collapsed": true
   },
   "outputs": [],
   "source": [
    "def ran_bool(num,low,high):\n",
    "    return num in list(range(low,high+1))"
   ]
  },
  {
   "cell_type": "code",
   "execution_count": 21,
   "metadata": {},
   "outputs": [
    {
     "output_type": "execute_result",
     "data": {
      "text/plain": "True"
     },
     "metadata": {},
     "execution_count": 21
    }
   ],
   "source": [
    "ran_bool(3,1,10)"
   ]
  },
  {
   "cell_type": "markdown",
   "metadata": {},
   "source": [
    "____\n",
    "**Write a Python function that accepts a string and calculates the number of upper case letters and lower case letters.**\n",
    "\n",
    "    Sample String : 'Hello Mr. Rogers, how are you this fine Tuesday?'\n",
    "    Expected Output : \n",
    "    No. of Upper case characters : 4\n",
    "    No. of Lower case Characters : 33\n",
    "\n",
    "HINT: Two string methods that might prove useful: **.isupper()** and **.islower()**\n",
    "\n",
    "If you feel ambitious, explore the Collections module to solve this problem!"
   ]
  },
  {
   "cell_type": "code",
   "execution_count": 44,
   "metadata": {
    "collapsed": true,
    "tags": []
   },
   "outputs": [],
   "source": [
    "def up_low(s):\n",
    "    d={'upper':0,'lower':0}\n",
    "    for c in list(s):\n",
    "        if c.isupper():\n",
    "            d['upper']+=1\n",
    "        elif c.islower():\n",
    "            d['lower']+=1\n",
    "        else:\n",
    "            pass\n",
    "    return print(f'{s}\\nno. of upper case characters {d[\"upper\"]}\\nno. of lower case characters {d[\"lower\"]}')\n",
    "\n"
   ]
  },
  {
   "cell_type": "code",
   "execution_count": 45,
   "metadata": {
    "tags": []
   },
   "outputs": [
    {
     "output_type": "stream",
     "name": "stdout",
     "text": "Hello Mr. Rogers, how are you this fine Tuesday?\nno. of upper case characters 4\nno. of lower case characters 33\n"
    }
   ],
   "source": [
    "s = 'Hello Mr. Rogers, how are you this fine Tuesday?'\n",
    "up_low(s)"
   ]
  },
  {
   "cell_type": "markdown",
   "metadata": {},
   "source": [
    "____\n",
    "**Write a Python function that takes a list and returns a new list with unique elements of the first list.**\n",
    "\n",
    "    Sample List : [1,1,1,1,2,2,3,3,3,3,4,5]\n",
    "    Unique List : [1, 2, 3, 4, 5]"
   ]
  },
  {
   "cell_type": "code",
   "execution_count": 84,
   "metadata": {
    "collapsed": true,
    "tags": []
   },
   "outputs": [
    {
     "output_type": "stream",
     "name": "stdout",
     "text": "5.047240499999589\n3.308089799999834\n"
    }
   ],
   "source": [
    "#mylist = [x*y for x in [2,4,6] for y in [1,10,1000]]\n",
    "#results = [x**2 if x%2==0 else 'odd' for x in range (0,11)]\n",
    "# https://stackoverflow.com/questions/4260280/if-else-in-a-list-comprehension\n",
    "# https://stackoverflow.com/questions/480214/how-do-you-remove-duplicates-from-a-list-whilst-preserving-order/480227#480227\n",
    "\n",
    "import timeit\n",
    "\n",
    "def unique_list3(lst):\n",
    "    return list(set(lst))\n",
    "\n",
    "def unique_list4(lst):\n",
    "    seen_nums=[]\n",
    "    for number in lst:\n",
    "        if number not in seen_nums:\n",
    "            seen_nums.append(number)\n",
    "        return seen_nums\n",
    "\n",
    "def unique_list(lst):\n",
    "    uniquelist=[]\n",
    "    for x in lst:\n",
    "        if x in uniquelist:\n",
    "            pass\n",
    "        else:\n",
    "            uniquelist.append(x)\n",
    "    return uniquelist\n",
    "\n",
    "def unique_list2(lst):\n",
    "    uniquelist2=[]\n",
    "    [x if x in uniquelist2 else uniquelist2.append(x) for x in lst ]\n",
    "    return uniquelist2\n",
    "\n",
    "def unique_list5(lst):\n",
    "    uniquelist5=[]\n",
    "    return [x if x not in uniquelist2 else uniquelist2.append(x) for x in lst ]\n",
    "\n",
    "exetime = timeit.timeit('unique_list2([1,1,1,1,2,2,3,3,3,3,4,5,7,7,7,7,7,8,1123,23212321,2333,2333])','from __main__ import unique_list2')\n",
    "print(exetime)\n",
    "exetime = timeit.timeit('unique_list([1,1,1,1,2,2,3,3,3,3,4,5,7,7,7,7,7,8,1123,23212321,2333,2333])','from __main__ import unique_list')\n",
    "print(exetime)"
   ]
  },
  {
   "cell_type": "code",
   "execution_count": 86,
   "metadata": {},
   "outputs": [],
   "source": [
    "#unique_list2([1,1,1,1,2,2,3,3,3,3,4,5])\n",
    "#\n",
    "#execution_time = timeit.timeit(func, number=1)\n",
    "#\n",
    "\n",
    "#unique_list2([1,1,1,1,2,2,3,3,3,3,4,5,7,7,7,7,7,8,1123,23212321,2333,2333])"
   ]
  },
  {
   "cell_type": "markdown",
   "metadata": {},
   "source": [
    "____\n",
    "**Write a Python function to multiply all the numbers in a list.**\n",
    "\n",
    "    Sample List : [1, 2, 3, -4]\n",
    "    Expected Output : -24"
   ]
  },
  {
   "cell_type": "code",
   "execution_count": 52,
   "metadata": {
    "collapsed": true
   },
   "outputs": [],
   "source": [
    "def multiply(numbers):  \n",
    "    out=1\n",
    "    for x in numbers:\n",
    "        out=out*x\n",
    "    return out\n",
    "\n",
    "def multiply2(numbers):\n",
    "    return []"
   ]
  },
  {
   "cell_type": "code",
   "execution_count": 55,
   "metadata": {},
   "outputs": [
    {
     "output_type": "execute_result",
     "data": {
      "text/plain": "-24000"
     },
     "metadata": {},
     "execution_count": 55
    }
   ],
   "source": [
    "multiply([1,2,3,-4,1000])"
   ]
  },
  {
   "cell_type": "markdown",
   "metadata": {},
   "source": [
    "____\n",
    "**Write a Python function that checks whether a word or phrase is palindrome or not.**\n",
    "\n",
    "Note: A palindrome is word, phrase, or sequence that reads the same backward as forward, e.g., madam,kayak,racecar, or a phrase \"nurses run\". Hint: You may want to check out the .replace() method in a string to help out with dealing with spaces. Also google search how to reverse a string in Python, there are some clever ways to do it with slicing notation."
   ]
  },
  {
   "cell_type": "code",
   "execution_count": 95,
   "metadata": {
    "collapsed": true
   },
   "outputs": [],
   "source": [
    "def palindrome(s):\n",
    "    #remove spaces s= s.replace(' ','')\n",
    "    return s==s[::-1]"
   ]
  },
  {
   "cell_type": "code",
   "execution_count": 98,
   "metadata": {
    "tags": []
   },
   "outputs": [
    {
     "output_type": "execute_result",
     "data": {
      "text/plain": "True"
     },
     "metadata": {},
     "execution_count": 98
    }
   ],
   "source": [
    "palindrome('racecar kayak madam kayak racecar')"
   ]
  },
  {
   "cell_type": "markdown",
   "metadata": {},
   "source": [
    "____\n",
    "#### Hard:\n",
    "\n",
    "**Write a Python function to check whether a string is pangram or not. (Assume the string passed in does not have any punctuation)**\n",
    "\n",
    "    Note : Pangrams are words or sentences containing every letter of the alphabet at least once.\n",
    "    For example : \"The quick brown fox jumps over the lazy dog\"\n",
    "\n",
    "Hint: You may want to use .replace() method to get rid of spaces.\n",
    "\n",
    "Hint: Look at the [string module](https://stackoverflow.com/questions/16060899/alphabet-range-in-python)\n",
    "\n",
    "Hint: In case you want to use [set comparisons](https://medium.com/better-programming/a-visual-guide-to-set-comparisons-in-python-6ab7edb9ec41)"
   ]
  },
  {
   "cell_type": "code",
   "execution_count": 153,
   "metadata": {
    "collapsed": true,
    "tags": []
   },
   "outputs": [
    {
     "output_type": "execute_result",
     "data": {
      "text/plain": "True"
     },
     "metadata": {},
     "execution_count": 153
    }
   ],
   "source": [
    "import string\n",
    "#string.ascii_lowercase\n",
    "#str1='The quick brown fox jumps over the lazy dog'\n",
    "#str1='Do wafting zephyrs quickly vex Jumbo    '\n",
    "str1='Pack my red box with five dozen quality jugs'\n",
    "#str1=''\n",
    "#str1=''\n",
    "\n",
    "def ispangram2(str2):\n",
    "    str2=list((str2.lower()).replace(\" \",\"\"))\n",
    "    alphabet=string.ascii_lowercase\n",
    "    res = [x for x in str2 + list(alphabet) if x not in str2 or x not in list(alphabet)]\n",
    "    return(not bool(res))\n",
    "\n",
    "def ispangram(str1, alphabet=string.ascii_lowercase):\n",
    "    uniquelist2=[]\n",
    "    str1=list((str1.lower()).replace(\" \",\"\"))\n",
    "    #print(str1)\n",
    "    [x if x in uniquelist2 else uniquelist2.append(x) for x in str1 ]\n",
    "    #print(uniquelist2)\n",
    "    res = [x for x in uniquelist2 + list(alphabet) if x not in uniquelist2 or x not in list(alphabet)]\n",
    "    #print(res)\n",
    "    return(not bool(res))\n",
    "\n",
    "\n",
    "ispangram(str1)\n",
    "\n"
   ]
  },
  {
   "cell_type": "code",
   "execution_count": 158,
   "metadata": {
    "tags": []
   },
   "outputs": [
    {
     "output_type": "execute_result",
     "data": {
      "text/plain": "False"
     },
     "metadata": {},
     "execution_count": 158
    }
   ],
   "source": [
    "ispangram2(\"The quick brown fosssx jumps over the lazy dog\")"
   ]
  },
  {
   "cell_type": "code",
   "execution_count": null,
   "metadata": {},
   "outputs": [],
   "source": []
  }
 ],
 "metadata": {
  "kernelspec": {
   "display_name": "Python 3",
   "language": "python",
   "name": "python3"
  },
  "language_info": {
   "codemirror_mode": {
    "name": "ipython",
    "version": 3
   },
   "file_extension": ".py",
   "mimetype": "text/x-python",
   "name": "python",
   "nbconvert_exporter": "python",
   "pygments_lexer": "ipython3",
   "version": "3.7.0-final"
  }
 },
 "nbformat": 4,
 "nbformat_minor": 1
}