{
 "cells": [
  {
   "cell_type": "markdown",
   "metadata": {},
   "source": [
    "___\n",
    "\n",
    "<a href='https://www.udemy.com/user/joseportilla/'><img src='../Pierian_Data_Logo.png'/></a>\n",
    "___\n",
    "<center><em>Content Copyright by Pierian Data</em></center>"
   ]
  },
  {
   "cell_type": "markdown",
   "metadata": {},
   "source": [
    "# Milestone Project 1\n",
    "## Congratulations on making it to your first milestone!\n",
    "You've already learned a ton and are ready to work on a real project.\n",
    "\n",
    "Your assignment: Create a Tic Tac Toe game. You are free to use any IDE you like.\n",
    "\n",
    "Here are the requirements:\n",
    "\n",
    "* 2 players should be able to play the game (both sitting at the same computer)\n",
    "* The board should be printed out every time a player makes a move\n",
    "* You should be able to accept input of the player position and then place a symbol on the board\n",
    "\n",
    "Feel free to use Google to help you figure anything out (but don't just Google \"Tic Tac Toe in Python\" otherwise you won't learn anything!) Keep in mind that this project can take anywhere between several hours to several days.\n",
    "\n",
    "There are 4 Jupyter Notebooks related to this assignment:\n",
    "\n",
    "* This Assignment Notebook\n",
    "* A \"Walkthrough Steps Workbook\" Notebook\n",
    "* A \"Complete Walkthrough Solution\" Notebook\n",
    "* An \"Advanced Solution\" Notebook\n",
    "\n",
    "I encourage you to just try to start the project on your own without referencing any of the notebooks. If you get stuck, check out the next lecture which is a text lecture with helpful hints and steps. If you're still stuck after that, then check out the Walkthrough Steps Workbook, which breaks up the project in steps for you to solve. Still stuck? Then check out the Complete Walkthrough Solution video for more help on approaching the project!"
   ]
  },
  {
   "cell_type": "markdown",
   "metadata": {},
   "source": [
    "There are parts of this that will be a struggle...and that is good! I have complete faith that if you have made it this far through the course you have all the tools and knowledge to tackle this project. Remember, it's totally open book, so take your time, do a little research, and remember:\n",
    "\n",
    "## HAVE FUN!"
   ]
  },
  {
   "cell_type": "markdown",
   "metadata": {},
   "source": [
    "Milestone Project Help\n",
    "Tic Tac Toe Project Helpful Hints\n",
    "\n",
    "In this text lecture we will just have a useful guide for helping you complete the project! Sometimes this project can feel overwhelming, like being thrown into the deep end of the pool and told \"Now learn to swim!\". So to help out with this, here's a guide to help you begin in the right direction! (Note, there's lots of ways to accomplish this task, so your code may look completely different than the given solution). If the hints below still aren't enough, check out the \"Walkthrough Workbook\" notebook for even more help!\n",
    "\n",
    "First off, make sure you understand the project scope. What needs to happen?\n",
    "\n",
    "\n",
    "1.  We need to print a board.\n",
    "2.  Take in player input.\n",
    "3.  Place their input on the board.\n",
    "4.  Check if the game is won,tied, lost, or ongoing.\n",
    "5.  Repeat c and d until the game has been won or tied.\n",
    "6.  Ask if players want to play again.\n",
    "\n",
    "Ok so we got a general idea of what we need to do. Let's break it down by steps. If you're having trouble with the project, come and check this lecture if you ever get stuck.\n",
    "PROJECT HINTS:\n",
    "\n",
    "\n",
    "1. Start by deciding how you will store the player's marker positions (Xs and Os). Let's choose a list, where each index corresponds with a number on a keypad, which in turn corresponds with a position on the 3 by 3 board.\n",
    "\n",
    "2. Create a list called board which will keep track of the player markers.\n",
    "a. The list should already be the same length as your intended board.\n",
    "\n",
    "3. Create a function that will print a board. Not just the list, but an actual representation of a board! This can be done with multiple print statements within the function. Think about how you would take elements from the list and print them out into the board. (You can also clear output in jupyter notebook with clear_output() . You need to import this, so at the top of a cell copy and paste: from IPython.display import clear_output\n",
    "\n",
    "4. Write a function which takes an input marker string 'X' or \"O' and a given number and stores it to a list at that appendix.\n",
    "a. You might have to look up how to take input in python! input()\n",
    "b. Play around with input() to make sure you understand it\n",
    "\n",
    "5. Write a function that takes in the board and a player marker and checks it theres a win or a tie.\n",
    "The checking for a win should be a series of a bunch checks, for example: (board[7] == board[8] == board[9] == marker)would check the first top row if they all match a player's marker.\n",
    "\n",
    "6. Check for a tie (this means nobody won and the board list is full!)\n",
    "\n",
    "7. Now begin writing functions that begin game play.\n",
    "\n",
    "8. You'll need to write a function which starts combining and calling the different functions you've made within it.\n",
    "For example, a function which asks for a player's move, then updates the board,then checks for a win, then prints out the board.\n",
    "\n",
    "9. How can you keep the game continually going?\n",
    "Maybe try using a while loop.\n",
    "Something like, while the board isn't full and nobody's won...\n",
    "\n",
    "10.  You might want to think about how to use boolean objects as markers of the game's status.\n",
    "\n",
    "11. Alright you should have enough now to begin piecing things together!\n",
    "If you're still stuck, try googling around for \"Python Tic Tac Toe\" for ideas of how to put all your pieces and functions together!\n",
    "Great job and remember, this is a milestone project, so its meant to be challenging!\n",
    "\n",
    "\n",
    "\n",
    "Other things that you may want to implement:\n",
    "\n",
    "1. Taking in a player's input:\n",
    "\n",
    "If you're confused on how to take in a players input, you have to use input() for Python 3, or raw_input() for Python 2.. You can use it in the following manner:\n",
    "\n",
    "board_position = input(\"Please enter a number for the board position choice: \")\n",
    "\n",
    "Then you would see a pop-up occur with a text box asking you for your input. Type in the number and press enter, now the variable board_position is an integer you can use for your code. For more on the differences between raw_input() and input(), check out this answer.\n",
    "\n",
    "2. Checking an input and asking again:\n",
    "\n",
    "In my solution I take into account if a player possibly puts in an incorrect input (like passing a string 'hello' when asked for their board position choice). You can take care of this by using a while loop!\n",
    "\n"
   ]
  },
  {
   "cell_type": "code",
   "execution_count": null,
   "metadata": {},
   "outputs": [],
   "source": [
    "\n",
    "# 1 | 2 | 3\n",
    "# 4 | 5 | 6\n",
    "# 7 | 8 | 9\n",
    "\n",
    "brd1 = ['X','O','X','X','X','O','X','O','X']\n",
    "brd1 = ['','','','','','','','']\n",
    "\n",
    "def print_board(board):\n",
    "    pass\n"
   ]
  },
  {
   "cell_type": "code",
   "execution_count": null,
   "metadata": {},
   "outputs": [],
   "source": [
    "print(3)"
   ]
  },
  {
   "cell_type": "code",
   "execution_count": null,
   "metadata": {},
   "outputs": [],
   "source": []
  }
 ],
 "metadata": {
  "kernelspec": {
   "display_name": "Python 3",
   "language": "python",
   "name": "python3"
  },
  "language_info": {
   "codemirror_mode": {
    "name": "ipython",
    "version": 3
   },
   "file_extension": ".py",
   "mimetype": "text/x-python",
   "name": "python",
   "nbconvert_exporter": "python",
   "pygments_lexer": "ipython3",
   "version": "3.7.0-final"
  }
 },
 "nbformat": 4,
 "nbformat_minor": 1
}