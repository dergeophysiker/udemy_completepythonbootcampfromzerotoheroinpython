{
 "metadata": {
  "language_info": {
   "codemirror_mode": {
    "name": "ipython",
    "version": 3
   },
   "file_extension": ".py",
   "mimetype": "text/x-python",
   "name": "python",
   "nbconvert_exporter": "python",
   "pygments_lexer": "ipython3",
   "version": "3.7.0-final"
  },
  "orig_nbformat": 2,
  "kernelspec": {
   "name": "python_defaultSpec_1600184901869",
   "display_name": "Python 3.7.0 64-bit ('.venv': venv)"
  }
 },
 "nbformat": 4,
 "nbformat_minor": 2,
 "cells": [
  {
   "cell_type": "code",
   "execution_count": 9,
   "metadata": {},
   "outputs": [],
   "source": [
    "def add(n1,n2):\n",
    "    \n",
    "    try:\n",
    "        result= n1+n2\n",
    "    except:\n",
    "        print(\"add better?\")\n",
    "    else:\n",
    "        print(\"add went well\")\n",
    "        print(result)\n",
    "    finally:\n",
    "        print('i always run')\n",
    "\n",
    "number1=10\n",
    "number2=int(input(\"give me a number\"))"
   ]
  },
  {
   "cell_type": "code",
   "execution_count": null,
   "metadata": {},
   "outputs": [],
   "source": []
  },
  {
   "cell_type": "code",
   "execution_count": 10,
   "metadata": {
    "tags": []
   },
   "outputs": [
    {
     "output_type": "stream",
     "name": "stdout",
     "text": "add went well\n43\ni always run\n"
    }
   ],
   "source": [
    "add(number1, number2)"
   ]
  },
  {
   "cell_type": "code",
   "execution_count": null,
   "metadata": {},
   "outputs": [],
   "source": [
    "def ask_for_int():\n",
    "    while True:\n",
    "        try:\n",
    "            result=int(input('provide numb'))\n",
    "        except:\n",
    "            print(' there is an error')\n",
    "        else:\n",
    "            print(result)\n",
    "        finally:\n",
    "            print(\"the finally runs\")\n",
    "\n",
    "ask_for_int()"
   ]
  },
  {
   "cell_type": "code",
   "execution_count": null,
   "metadata": {},
   "outputs": [],
   "source": []
  }
 ]
}