{
 "metadata": {
  "language_info": {
   "codemirror_mode": {
    "name": "ipython",
    "version": 3
   },
   "file_extension": ".py",
   "mimetype": "text/x-python",
   "name": "python",
   "nbconvert_exporter": "python",
   "pygments_lexer": "ipython3",
   "version": "3.7.0-final"
  },
  "orig_nbformat": 2,
  "kernelspec": {
   "name": "Python 3.7.0 64-bit ('.venv')",
   "display_name": "Python 3.7.0 64-bit ('.venv')",
   "metadata": {
    "interpreter": {
     "hash": "0fea508850ba752249de16599bd8109f354191fe6b19cfd34e44f82771ee1e9a"
    }
   }
  }
 },
 "nbformat": 4,
 "nbformat_minor": 2,
 "cells": [
  {
   "cell_type": "code",
   "execution_count": 5,
   "metadata": {},
   "outputs": [
    {
     "output_type": "execute_result",
     "data": {
      "text/plain": [
       "'\\t this is the greet function in hello'"
      ]
     },
     "metadata": {},
     "execution_count": 5
    }
   ],
   "source": [
    "def hello(name='jose'):\n",
    "    print(\"the hello func has been executed\")\n",
    "\n",
    "    def greet():\n",
    "        return \"\\t this is the greet function in hello\"\n",
    "    \n",
    "    def welcome():\n",
    "        return \"\\t this is the welcome inside hello\"\n",
    "\n",
    "    '''\n",
    "    print(greet())\n",
    "    print(welcome())\n",
    "    print(\"this is the end of hello\")\n",
    "    '''\n",
    "    print(\"returning a function\")\n",
    "    if name == 'jose':\n",
    "        return greet\n",
    "    else:\n",
    "        return welcome\n",
    "#######################\n",
    "my_new_func\n",
    "my_new_func()"
   ]
  },
  {
   "cell_type": "code",
   "execution_count": 4,
   "metadata": {},
   "outputs": [
    {
     "output_type": "stream",
     "name": "stdout",
     "text": [
      "the hello func has been executed\nreturning a function\n"
     ]
    },
    {
     "output_type": "execute_result",
     "data": {
      "text/plain": [
       "'\\t this is the greet function in hello'"
      ]
     },
     "metadata": {},
     "execution_count": 4
    }
   ],
   "source": [
    "my_new_func = hello('jose')\n",
    "my_new_func\n",
    "my_new_func()\n"
   ]
  }
 ]
}