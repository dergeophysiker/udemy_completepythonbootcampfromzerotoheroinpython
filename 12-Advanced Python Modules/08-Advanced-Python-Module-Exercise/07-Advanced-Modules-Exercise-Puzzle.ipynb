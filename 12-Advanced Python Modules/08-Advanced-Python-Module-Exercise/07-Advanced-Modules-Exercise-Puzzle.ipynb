{
 "cells": [
  {
   "cell_type": "markdown",
   "metadata": {},
   "source": [
    "___\n",
    "\n",
    "<a href='https://www.udemy.com/user/joseportilla/'><img src='../../Pierian_Data_Logo.png'/></a>\n",
    "___\n",
    "<center><em>Content Copyright by Pierian Data</em></center>"
   ]
  },
  {
   "cell_type": "markdown",
   "metadata": {},
   "source": [
    "# Advanced Modules Exercise Puzzle\n",
    "\n",
    "It's time to test your new skills, this puzzle project will combine multiple skills sets, including unzipping files with Python, using os module to automatically search through lots of files.\n",
    "\n",
    "## Your Goal\n",
    "\n",
    "This is a puzzle, so we don't want to give you too much guidance and instead have you figure out things on your own.\n",
    "\n",
    "There is a .zip file called 'unzip_me_for_instructions.zip', unzip it, open the .txt file with Python, read the instructions and see if you can figure out what you need to do!\n",
    "\n",
    "**If you get stuck or don't know where to start, here is a [guide/hints](https://docs.google.com/document/d/1JxydUr4n4fSR0EwwuwT-aHia-yPK6r-oTBuVT2sqheo/edit?usp=sharing)**"
   ]
  },
  {
   "cell_type": "code",
   "execution_count": 81,
   "metadata": {},
   "outputs": [],
   "source": [
    "import zipfile\n",
    "import shutil\n",
    "import re\n",
    "from os import system\n",
    "import os"
   ]
  },
  {
   "cell_type": "code",
   "execution_count": 82,
   "metadata": {},
   "outputs": [
    {
     "output_type": "execute_result",
     "data": {
      "text/plain": [
       "'c:\\\\Users\\\\cxrf\\\\OneDrive - Chevron\\\\Documents\\\\python\\\\bootcamp\\\\git\\\\12-Advanced Python Modules\\\\08-Advanced-Python-Module-Exercise\\\\unzip_me_for_instructions\\\\extracted_content'"
      ]
     },
     "metadata": {},
     "execution_count": 82
    }
   ],
   "source": [
    "os.getcwd()\n",
    "#shutil.unpack_archive('unzip_me_for_instructions.zip', 'unzip_me_for_instructions','zip')"
   ]
  },
  {
   "cell_type": "code",
   "execution_count": 83,
   "metadata": {},
   "outputs": [
    {
     "output_type": "execute_result",
     "data": {
      "text/plain": [
       "'c:\\\\Users\\\\cxrf\\\\OneDrive - Chevron\\\\Documents\\\\python\\\\bootcamp\\\\git\\\\12-Advanced Python Modules\\\\08-Advanced-Python-Module-Exercise\\\\unzip_me_for_instructions\\\\extracted_content'"
      ]
     },
     "metadata": {},
     "execution_count": 83
    }
   ],
   "source": [
    "os.getcwd()\n"
   ]
  },
  {
   "cell_type": "code",
   "execution_count": 87,
   "metadata": {},
   "outputs": [
    {
     "output_type": "stream",
     "name": "stdout",
     "text": [
      "Good work on unzipping the file!\nYou should now see 5 folders, each with a lot of random .txt files.\nWithin one of these text files is a telephone number formated ###-###-#### \nUse the Python os module and regular expressions to iterate through each file, open it, and search for a telephone number.\nGood luck!\n"
     ]
    }
   ],
   "source": [
    "#f = open('Instructions.txt','r')\n",
    "with open('Instructions.txt') as f:\n",
    "    txt=f.read()\n",
    "    print(txt)\n",
    "    os.getcwd()\n",
    "#os.chdir('extracted_content')\n",
    "#os.getcwd()\n",
    "\n"
   ]
  },
  {
   "cell_type": "code",
   "execution_count": 85,
   "metadata": {
    "tags": []
   },
   "outputs": [
    {
     "output_type": "stream",
     "name": "stdout",
     "text": [
      ".\n",
      "Five\n",
      "Four\n",
      "One\n",
      "Three\n",
      "Two\n",
      "Instructions.txt\n",
      ".\\Five\n",
      "AEITMYIRQLP.txt\n",
      "APJKSRITGGX.txt\n",
      "AQKATDFGXTS.txt\n",
      "ARLKFCWIAJE.txt\n",
      "AXJGVPVEFAS.txt\n",
      "BNUQEHCFRTG.txt\n",
      "BSKJDRNEZQM.txt\n",
      "BTYWAHLHKBM.txt\n",
      "BUGKBZWRRVI.txt\n",
      "BVBURZZCAPR.txt\n",
      "CAHBEVSVDDN.txt\n",
      "COMGMZBJAYE.txt\n",
      "CRFSDGYFSHA.txt\n",
      "CSCLFZCDYYC.txt\n",
      "CXBVCTRBBIE.txt\n",
      "DDLASODUVPX.txt\n",
      "DHZBAAYEADM.txt\n",
      "DQPZQLBCJYP.txt\n",
      "DYOPIIVMZOO.txt\n",
      "DZUWWXYIAEL.txt\n",
      "EAAOEPSAWMQ.txt\n",
      "EIPWXMQZJKU.txt\n",
      "ESIZWBHMGDP.txt\n",
      "ETCUEXWNBCF.txt\n",
      "EYTCGIOYWIW.txt\n",
      ".\\Four\n",
      "ECIOBYCDVFI.txt\n",
      "EMTGPSXQEJX.txt\n",
      "719-266-2837\n",
      "EPRNUHRSESC.txt\n",
      "ESDIZXHYCVY.txt\n",
      "EXVQSVBQQQH.txt\n",
      "QCTCKDIBBVG.txt\n",
      "QCWCFLKNZMN.txt\n",
      "QDDETWBHJYC.txt\n",
      "QTDYYIFPHAU.txt\n",
      "QVNJULGXNUM.txt\n",
      "REAXWSOIQDY.txt\n",
      "ROICPTWKXDX.txt\n",
      "RSXOTNGKBML.txt\n",
      "RXDARIDGKBF.txt\n",
      "RYNXFYXMKHG.txt\n",
      "TAKNAVDMZKV.txt\n",
      "THPNEGKTJWI.txt\n",
      "TJFMLJODVAD.txt\n",
      "TKCZSFQNJTX.txt\n",
      "TWUOYFCCYBQ.txt\n",
      "WFSKPTXPFCH.txt\n",
      "WHTOHQUWXIN.txt\n",
      "WNJISWPEBRS.txt\n",
      "WXDJDOGZEHN.txt\n",
      "WYDLGSGGXKV.txt\n",
      ".\\One\n",
      "HDOHZHFSTTK.txt\n",
      "HFUTPPAXDIS.txt\n",
      "HMNZTLIFGPD.txt\n",
      "HRQFTHKVJTL.txt\n",
      "HVUTZEVMSBW.txt\n",
      "JDLRVFCXYLU.txt\n",
      "JEHBLZPUPSP.txt\n",
      "JLTXKIGCWDL.txt\n",
      "JQUOBKFUACN.txt\n",
      "JTHSNBNPQSE.txt\n",
      "KCXGNQCZBLO.txt\n",
      "KFIUZFERLET.txt\n",
      "KMMLGJOWLGI.txt\n",
      "KNBSKDREHQU.txt\n",
      "KTXDHIOKAUI.txt\n",
      "LDGOCUQJNNS.txt\n",
      "LFEATJAAYDC.txt\n",
      "LHODFIKVTQA.txt\n",
      "LIFDHOFKWOI.txt\n",
      "LPNDVDXPZIG.txt\n",
      "PDJMSMNKIRM.txt\n",
      "PHWAVPEKAER.txt\n",
      "PLYCGPVEAWO.txt\n",
      "PQNVCVJINAR.txt\n",
      "PTOBBCJYURJ.txt\n",
      ".\\Three\n",
      "VAQIJTDOFUJ.txt\n",
      "VCFJCGJFBIH.txt\n",
      "VSXFSTABZDY.txt\n",
      "VVHFVZUNLOO.txt\n",
      "VVKGWLRMHLU.txt\n",
      "XAJMCPEWFNI.txt\n",
      "XFHJOTNPEJG.txt\n",
      "XHZPVUQTXIO.txt\n",
      "XJCWENFFGHB.txt\n",
      "XVMPVSVYKFR.txt\n",
      "YCESZHJDBXH.txt\n",
      "YDQFMWXOUMW.txt\n",
      "YQBIUHSUEVW.txt\n",
      "YQRNCMNFFHW.txt\n",
      "YYIZGBTQHZP.txt\n",
      "ZEZKKRBIZEB.txt\n",
      "ZKQJXAYKPVD.txt\n",
      "ZOWVXWPOGWP.txt\n",
      "ZXEZRQXZNPG.txt\n",
      "ZXIBJMPROKW.txt\n",
      ".\\Two\n",
      "GKQBQRCTNNK.txt\n",
      "GMMQQUBMJNR.txt\n",
      "GQTJJORZBXY.txt\n",
      "GTOTCIWMDBY.txt\n",
      "GXYSEPAFRTP.txt\n",
      "HARDNJGDRBC.txt\n",
      "HEORIXOTANT.txt\n",
      "HMUTDOVNYTV.txt\n",
      "HMZXPBOPRAE.txt\n",
      "HTOHSTYXTCO.txt\n",
      "LCJZYDHBFRM.txt\n",
      "LSQSTGPIGIY.txt\n",
      "LULTNYAQEJG.txt\n",
      "LVMBINRBJXL.txt\n",
      "LYZEQCVYNEZ.txt\n",
      "OHZOUOSFJQC.txt\n",
      "OIHMLGMWTHL.txt\n",
      "OKWFOOYTXFU.txt\n",
      "OMWIMVRCMYM.txt\n",
      "OYMAGXAGWHJ.txt\n",
      "SIKFPPLCJDN.txt\n",
      "SJMJLDGPBSJ.txt\n",
      "SOFUJYXTIMK.txt\n",
      "SPDZYGDHEWO.txt\n",
      "SWOFXREEHWA.txt\n",
      "found 1 results consising of ['719-266-2837']\n"
     ]
    }
   ],
   "source": [
    "phone_pattern = re.compile(r'(\\d{3})-(\\d{3})-(\\d{4})')\n",
    "numbers=[]\n",
    "for root, sub_folders, files in os.walk(\".\"):\n",
    "    #print(folder)\n",
    "    print(root)\n",
    "    for subfold in sub_folders:\n",
    "        print(subfold)\n",
    "    for f in files:\n",
    "        print(f)\n",
    "        #if f=='AEITMYIRQLP.txt':\n",
    "        path=(os.path.join(root,f))\n",
    "        file=open(path,'r')\n",
    "        txt=file.read()\n",
    "        #print(txt)\n",
    "        results = re.search(phone_pattern, txt)\n",
    "        if(results):\n",
    "            print(results.group())\n",
    "            numbers.append(results.group())\n",
    "print(f\"found {len(numbers)} results consising of {numbers}\")"
   ]
  },
  {
   "cell_type": "code",
   "execution_count": null,
   "metadata": {},
   "outputs": [],
   "source": []
  }
 ],
 "metadata": {
  "anaconda-cloud": {},
  "kernelspec": {
   "display_name": "Python 3",
   "language": "python",
   "name": "python3"
  },
  "language_info": {
   "codemirror_mode": {
    "name": "ipython",
    "version": 3
   },
   "file_extension": ".py",
   "mimetype": "text/x-python",
   "name": "python",
   "nbconvert_exporter": "python",
   "pygments_lexer": "ipython3",
   "version": "3.7.0-final"
  }
 },
 "nbformat": 4,
 "nbformat_minor": 2
}